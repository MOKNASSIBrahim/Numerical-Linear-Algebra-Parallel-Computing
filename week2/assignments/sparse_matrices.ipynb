{
 "cells": [
  {
   "cell_type": "markdown",
   "id": "aea03da3",
   "metadata": {},
   "source": [
    "In this assignement, feel free to use the `sparse` module from `scipy`."
   ]
  },
  {
   "cell_type": "markdown",
   "id": "2df42bcc",
   "metadata": {},
   "source": [
    "Use the cell below for your imports."
   ]
  },
  {
   "cell_type": "code",
   "execution_count": 10,
   "id": "e9644e55",
   "metadata": {},
   "outputs": [],
   "source": [
    "import numpy as np\n",
    "from scipy.sparse import coo_matrix, csr_matrix\n",
    "from scipy.sparse.linalg import spsolve"
   ]
  },
  {
   "cell_type": "markdown",
   "id": "8948a816",
   "metadata": {},
   "source": [
    "implement the function `mat_mul_coo` that takes two sparse matrices in `coo` and returns their product."
   ]
  },
  {
   "cell_type": "code",
   "execution_count": 11,
   "id": "6047ee0e",
   "metadata": {},
   "outputs": [],
   "source": [
    "def mat_mul_coo(A, B):\n",
    "    if A.shape[1] != B.shape[0]:\n",
    "        raise ValueError(\"Incompatible shapes: {} and {}\".format(A.shape, B.shape))\n",
    "    \n",
    "   \n",
    "    product_dict = {}\n",
    "    \n",
    "    \n",
    "    for i, j, a_val in zip(A.row, A.col, A.data):\n",
    "        for k, l, b_val in zip(B.row, B.col, B.data):\n",
    "            if j == k:\n",
    "                key = (i, l)\n",
    "                if key in product_dict:\n",
    "                    product_dict[key] += a_val * b_val\n",
    "                else:\n",
    "                    product_dict[key] = a_val * b_val\n",
    "    \n",
    "    \n",
    "    rows_cols, data = zip(*product_dict.items())\n",
    "    rows = [rows_cols[0] for rows_cols in rows_cols]\n",
    "    cols = [rows_cols[1] for rows_cols in rows_cols]\n",
    "    J = coo_matrix((data, (rows, cols)), shape=(A.shape[0], B.shape[1]))\n",
    "    \n",
    "    return J"
   ]
  },
  {
   "cell_type": "markdown",
   "id": "4a626dec",
   "metadata": {},
   "source": [
    "implement the function `mat_mul_csr` that takes two sparse matrices in `csr` format and returns their product."
   ]
  },
  {
   "cell_type": "code",
   "execution_count": 12,
   "id": "c2e56fbd",
   "metadata": {},
   "outputs": [],
   "source": [
    "def mat_mul_csr(a, b):\n",
    "    assert a.shape[1] == b.shape[0], \"The number of columns in the first matrix must be equal to the number of rows in the second matrix.\"\n",
    "\n",
    "    a_csr = a.tocsr()\n",
    "    b_csr = b.tocsr()\n",
    "\n",
    "    # Calculate the dot product of the sparse matrices\n",
    "    result = a_csr.dot(b_csr)\n",
    "\n",
    "    return result\n"
   ]
  },
  {
   "cell_type": "markdown",
   "id": "9592a90b",
   "metadata": {},
   "source": [
    "implement a function `solve_lin_sys` that takes a matrix `A` in `csr` format and a vector `b` as a numpy array and solves the system `Ax = b`."
   ]
  },
  {
   "cell_type": "code",
   "execution_count": 13,
   "id": "00edeb4c",
   "metadata": {},
   "outputs": [],
   "source": [
    "def solve_lin_sys(a, b):\n",
    "    a_csr = a.tocsr()\n",
    "\n",
    "    # Solve the linear system using sparse linear algebra\n",
    "    x = spsolve(a_csr, b)\n",
    "\n",
    "    return x\n"
   ]
  },
  {
   "cell_type": "code",
   "execution_count": null,
   "id": "5af1a89a",
   "metadata": {},
   "outputs": [],
   "source": []
  }
 ],
 "metadata": {
  "kernelspec": {
   "display_name": "Python 3 (ipykernel)",
   "language": "python",
   "name": "python3"
  },
  "language_info": {
   "codemirror_mode": {
    "name": "ipython",
    "version": 3
   },
   "file_extension": ".py",
   "mimetype": "text/x-python",
   "name": "python",
   "nbconvert_exporter": "python",
   "pygments_lexer": "ipython3",
   "version": "3.9.13"
  }
 },
 "nbformat": 4,
 "nbformat_minor": 5
}
