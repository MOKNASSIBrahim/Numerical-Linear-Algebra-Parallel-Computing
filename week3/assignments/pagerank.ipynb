{
 "cells": [
  {
   "cell_type": "markdown",
   "id": "87d64ccf",
   "metadata": {},
   "source": [
    "Use this cell for all your imports"
   ]
  },
  {
   "cell_type": "code",
   "execution_count": 44,
   "id": "40623a0d",
   "metadata": {},
   "outputs": [],
   "source": [
    "import numpy as np\n",
    "import scipy as sp\n",
    "from scipy.sparse import coo_matrix, csr_matrix\n",
    "import scipy.sparse as sp\n",
    "from sklearn.preprocessing import normalize\n",
    "import matplotlib.pyplot as plt\n",
    "\n"
   ]
  },
  {
   "cell_type": "markdown",
   "id": "164f305b",
   "metadata": {},
   "source": [
    "You will be working with the file data.txt. Use this cell to load its content into the appropriate data structure."
   ]
  },
  {
   "cell_type": "code",
   "execution_count": 51,
   "id": "be42fee4",
   "metadata": {},
   "outputs": [
    {
     "data": {
      "text/plain": [
       "<9912294x9912294 sparse matrix of type '<class 'numpy.float64'>'\n",
       "\twith 352807 stored elements in COOrdinate format>"
      ]
     },
     "execution_count": 51,
     "metadata": {},
     "output_type": "execute_result"
    }
   ],
   "source": [
    "# Load data from file\n",
    "data = np.loadtxt(\"data.txt\", comments=\"#\", delimiter=\"\\t\", dtype=int, unpack=False, skiprows=2)\n",
    "\n",
    "# Create sparse adjacency matrix\n",
    "adj_matrix = sp.coo_matrix((np.ones(data.shape[0]), (data[:, 0], data[:, 1])))\n",
    "adj_matrix"
   ]
  },
  {
   "cell_type": "markdown",
   "id": "4c7a8af4",
   "metadata": {},
   "source": [
    "Use this cell to normalize the matrix as you see fit."
   ]
  },
  {
   "cell_type": "code",
   "execution_count": 50,
   "id": "2e612783",
   "metadata": {},
   "outputs": [
    {
     "data": {
      "text/plain": [
       "<9912294x9912294 sparse matrix of type '<class 'numpy.float64'>'\n",
       "\twith 352807 stored elements in Compressed Sparse Row format>"
      ]
     },
     "execution_count": 50,
     "metadata": {},
     "output_type": "execute_result"
    }
   ],
   "source": [
    "# Normalize adjacency matrix\n",
    "rowsum = np.array(adj_matrix.sum(axis=1)).flatten()\n",
    "rowsum[rowsum == 0] = 1  # avoid divide by zero\n",
    "normalized_matrix = adj_matrix.multiply(1 / rowsum).tocsr()\n",
    "normalized_matrix"
   ]
  },
  {
   "cell_type": "markdown",
   "id": "5a4ee89a",
   "metadata": {},
   "source": [
    "Apply the PageRank algorithm to the matrix you created."
   ]
  },
  {
   "cell_type": "code",
   "execution_count": 47,
   "id": "ae9319ef",
   "metadata": {},
   "outputs": [
    {
     "name": "stdout",
     "output_type": "stream",
     "text": [
      "Converged after 19 iterations\n",
      "Top 10 nodes by PageRank score:\n",
      "Node 9905111: 0.00001\n",
      "Node 9710046: 0.00001\n",
      "Node 110055: 0.00000\n",
      "Node 210157: 0.00000\n",
      "Node 7170: 0.00000\n",
      "Node 101126: 0.00000\n",
      "Node 204089: 0.00000\n",
      "Node 9802051: 0.00000\n",
      "Node 9809039: 0.00000\n",
      "Node 9802067: 0.00000\n",
      "Node 9712253: 0.00000\n",
      "Node 201253: 0.00000\n",
      "Node 11197: 0.00000\n",
      "Node 209230: 0.00000\n",
      "Node 109162: 0.00000\n",
      "Node 204253: 0.00000\n",
      "Node 9909061: 0.00000\n",
      "Node 9611190: 0.00000\n",
      "Node 207130: 0.00000\n"
     ]
    }
   ],
   "source": [
    "# Set PageRank parameters\n",
    "alpha = 0.85  # damping factor\n",
    "max_iter = 100  # maximum number of iterations\n",
    "tolerance = 1e-6  # convergence tolerance\n",
    "\n",
    "# Initialize PageRank scores\n",
    "num_nodes = normalized_matrix.shape[0]\n",
    "pagerank = np.ones(num_nodes) / num_nodes\n",
    "\n",
    "# Run PageRank algorithm\n",
    "for i in range(max_iter):\n",
    "    prev_pagerank = pagerank.copy()\n",
    "    pagerank = normalized_matrix.dot(pagerank) * alpha + (1 - alpha) / num_nodes\n",
    "    delta = np.abs(pagerank - prev_pagerank).sum()\n",
    "    if delta < tolerance:\n",
    "        print(f\"Converged after {i+1} iterations\")\n",
    "        break\n",
    "\n",
    "# Sort nodes by PageRank score in descending order\n",
    "node_scores = {i: score for i, score in enumerate(pagerank)}\n",
    "sorted_scores = sorted(node_scores.items(), key=lambda x: x[1], reverse=True)\n",
    "\n",
    "# Print top 10 nodes by PageRank score\n",
    "print(\"Top 10 nodes by PageRank score:\")\n",
    "for node, score in sorted_scores[:19]:\n",
    "    print(f\"Node {node}: {score:.5f}\")"
   ]
  },
  {
   "cell_type": "markdown",
   "id": "005047ad",
   "metadata": {},
   "source": [
    "Output a list of the 100 most important papers along with their importance"
   ]
  },
  {
   "cell_type": "code",
   "execution_count": 48,
   "id": "9bb3819c",
   "metadata": {},
   "outputs": [
    {
     "name": "stdout",
     "output_type": "stream",
     "text": [
      "Top 100 nodes by PageRank score:\n",
      " 9905111: 0.00001\n",
      " 9710046: 0.00001\n",
      " 110055: 0.00000\n",
      " 210157: 0.00000\n",
      " 7170: 0.00000\n",
      " 101126: 0.00000\n",
      " 204089: 0.00000\n",
      " 9802051: 0.00000\n",
      " 9809039: 0.00000\n",
      " 9802067: 0.00000\n",
      " 9712253: 0.00000\n",
      " 201253: 0.00000\n",
      " 11197: 0.00000\n",
      " 209230: 0.00000\n",
      " 109162: 0.00000\n",
      " 204253: 0.00000\n",
      " 9909061: 0.00000\n",
      " 9611190: 0.00000\n",
      " 207130: 0.00000\n",
      " 207116: 0.00000\n",
      " 111208: 0.00000\n",
      " 209241: 0.00000\n",
      " 9906142: 0.00000\n",
      " 210292: 0.00000\n",
      " 9806199: 0.00000\n",
      " 9807171: 0.00000\n",
      " 211245: 0.00000\n",
      " 9906018: 0.00000\n",
      " 9202: 0.00000\n",
      " 3190: 0.00000\n",
      " 7195: 0.00000\n",
      " 106048: 0.00000\n",
      " 210224: 0.00000\n",
      " 206063: 0.00000\n",
      " 9812061: 0.00000\n",
      " 9908004: 0.00000\n",
      " 9705131: 0.00000\n",
      " 211178: 0.00000\n",
      " 203048: 0.00000\n",
      " 9912164: 0.00000\n",
      " 303185: 0.00000\n",
      " 108172: 0.00000\n",
      " 9801182: 0.00000\n",
      " 9803072: 0.00000\n",
      " 203157: 0.00000\n",
      " 110274: 0.00000\n",
      " 104031: 0.00000\n",
      " 303256: 0.00000\n",
      " 206038: 0.00000\n",
      " 9710231: 0.00000\n",
      " 302125: 0.00000\n",
      " 9806123: 0.00000\n",
      " 109212: 0.00000\n",
      " 111284: 0.00000\n",
      " 303191: 0.00000\n",
      " 9801132: 0.00000\n",
      " 107081: 0.00000\n",
      " 106201: 0.00000\n",
      " 3086: 0.00000\n",
      " 9611184: 0.00000\n",
      " 9911022: 0.00000\n",
      " 303072: 0.00000\n",
      " 209169: 0.00000\n",
      " 9903268: 0.00000\n",
      " 208142: 0.00000\n",
      " 9709172: 0.00000\n",
      " 9908199: 0.00000\n",
      " 203101: 0.00000\n",
      " 205060: 0.00000\n",
      " 9912271: 0.00000\n",
      " 9505052: 0.00000\n",
      " 101036: 0.00000\n",
      " 8241: 0.00000\n",
      " 9812072: 0.00000\n",
      " 9708009: 0.00000\n",
      " 9708164: 0.00000\n",
      " 9811093: 0.00000\n",
      " 9901050: 0.00000\n",
      " 210249: 0.00000\n",
      " 212253: 0.00000\n",
      " 9612192: 0.00000\n",
      " 9506171: 0.00000\n",
      " 102085: 0.00000\n",
      " 109092: 0.00000\n",
      " 9910053: 0.00000\n",
      " 12062: 0.00000\n",
      " 2016: 0.00000\n",
      " 9305040: 0.00000\n",
      " 9908171: 0.00000\n",
      " 9806104: 0.00000\n",
      " 9811019: 0.00000\n",
      " 9709062: 0.00000\n",
      " 2034: 0.00000\n",
      " 9801144: 0.00000\n",
      " 212313: 0.00000\n",
      " 302191: 0.00000\n",
      " 9603074: 0.00000\n",
      " 9611203: 0.00000\n",
      " 207105: 0.00000\n",
      " 9907123: 0.00000\n"
     ]
    }
   ],
   "source": [
    "# Sort nodes by PageRank score in descending order\n",
    "pagerank_scores = {i: score for i, score in enumerate(pagerank)}\n",
    "sorted_scores = sorted(pagerank_scores.items(), key=lambda x: x[1], reverse=True)\n",
    "\n",
    "# Print top 100 nodes by PageRank score\n",
    "print(\"Top 100 nodes by PageRank score:\")\n",
    "for node, score in sorted_scores[:100]:\n",
    "    print(f\" {node}: {score:.5f}\")"
   ]
  },
  {
   "cell_type": "markdown",
   "id": "b0ba2208",
   "metadata": {},
   "source": [
    "Visualize your results"
   ]
  },
  {
   "cell_type": "code",
   "execution_count": 49,
   "id": "25affee6",
   "metadata": {},
   "outputs": [
    {
     "data": {
      "image/png": "[encoded data removed]",
      "text/plain": [
       "<Figure size 640x480 with 1 Axes>"
      ]
     },
     "metadata": {},
     "output_type": "display_data"
    }
   ],
   "source": [
    "# Create a list of the top 100 paper scores\n",
    "top_scores = [score for _, score in sorted_scores[:100]]\n",
    "\n",
    "# Plot the top 100 paper scores\n",
    "plt.plot(range(1, 101), top_scores)\n",
    "plt.xlabel(\"Rank\")\n",
    "plt.ylabel(\"Score\")\n",
    "plt.title(\"PageRank Scores of Top 100 Papers\")\n",
    "plt.show()"
   ]
  },
  {
   "cell_type": "code",
   "execution_count": null,
   "id": "e8f40b07",
   "metadata": {},
   "outputs": [],
   "source": []
  }
 ],
 "metadata": {
  "kernelspec": {
   "display_name": "Python 3 (ipykernel)",
   "language": "python",
   "name": "python3"
  },
  "language_info": {
   "codemirror_mode": {
    "name": "ipython",
    "version": 3
   },
   "file_extension": ".py",
   "mimetype": "text/x-python",
   "name": "python",
   "nbconvert_exporter": "python",
   "pygments_lexer": "ipython3",
   "version": "3.9.13"
  }
 },
 "nbformat": 4,
 "nbformat_minor": 5
}
